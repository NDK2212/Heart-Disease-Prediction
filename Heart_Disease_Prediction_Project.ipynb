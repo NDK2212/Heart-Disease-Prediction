{
  "nbformat": 4,
  "nbformat_minor": 0,
  "metadata": {
    "colab": {
      "provenance": [],
      "authorship_tag": "ABX9TyNN2I3lC/6dTfeyk2fbmUsD",
      "include_colab_link": true
    },
    "kernelspec": {
      "name": "python3",
      "display_name": "Python 3"
    },
    "language_info": {
      "name": "python"
    }
  },
  "cells": [
    {
      "cell_type": "markdown",
      "metadata": {
        "id": "view-in-github",
        "colab_type": "text"
      },
      "source": [
        "<a href=\"https://colab.research.google.com/github/NDK2212/Heart-Disease-Prediction/blob/main/Heart_Disease_Prediction_Project.ipynb\" target=\"_parent\"><img src=\"https://colab.research.google.com/assets/colab-badge.svg\" alt=\"Open In Colab\"/></a>"
      ]
    },
    {
      "cell_type": "code",
      "execution_count": 2,
      "metadata": {
        "colab": {
          "base_uri": "https://localhost:8080/"
        },
        "id": "OGtNX-whk2vM",
        "outputId": "c8902d36-468a-4c03-88fe-c64be8fcc35b"
      },
      "outputs": [
        {
          "output_type": "stream",
          "name": "stdout",
          "text": [
            "Mounted at /content/drive\n"
          ]
        }
      ],
      "source": [
        "from google.colab import drive\n",
        "drive.mount('/content/drive')"
      ]
    },
    {
      "cell_type": "code",
      "source": [
        "import matplotlib.pyplot as plt\n",
        "import pandas as pd\n",
        "import numpy as np\n",
        "import seaborn as sns\n",
        "import os\n",
        "import cv2\n",
        "from tqdm import tqdm\n",
        "from sklearn.model_selection import train_test_split\n",
        "\n",
        "data_link = '/content/drive/MyDrive/AIO2024-017/MODULE 3/cleveland.csv'\n",
        "df = pd.read_csv(data_link, header = None)\n",
        "df.columns = ['age' , 'sex' , 'cp ', 'trestbps' , 'chol' ,'fbs' , 'restecg' , 'thalach' , 'exang' ,'oldpeak' , 'slope' , 'ca' , 'thal' , 'target']\n",
        "df['thal'] = df.thal.fillna(df.thal.mean())\n",
        "df['ca'] = df.ca.fillna(df.ca.mean())\n",
        "df['target'] = df.target.map({0:0, 1:1, 2:1, 3:1, 4:1})\n",
        "print(df)"
      ],
      "metadata": {
        "id": "ga-4KskOlBE1",
        "colab": {
          "base_uri": "https://localhost:8080/"
        },
        "outputId": "db9b41e9-f41d-4ea3-ec6b-27437fedc51d"
      },
      "execution_count": 3,
      "outputs": [
        {
          "output_type": "stream",
          "name": "stdout",
          "text": [
            "     age  sex  cp   trestbps  chol  fbs  restecg  thalach  exang  oldpeak  \\\n",
            "0     63    1    1       145   233    1        2      150      0      2.3   \n",
            "1     67    1    4       160   286    0        2      108      1      1.5   \n",
            "2     67    1    4       120   229    0        2      129      1      2.6   \n",
            "3     37    1    3       130   250    0        0      187      0      3.5   \n",
            "4     41    0    2       130   204    0        2      172      0      1.4   \n",
            "..   ...  ...  ...       ...   ...  ...      ...      ...    ...      ...   \n",
            "298   45    1    1       110   264    0        0      132      0      1.2   \n",
            "299   68    1    4       144   193    1        0      141      0      3.4   \n",
            "300   57    1    4       130   131    0        0      115      1      1.2   \n",
            "301   57    0    2       130   236    0        2      174      0      0.0   \n",
            "302   38    1    3       138   175    0        0      173      0      0.0   \n",
            "\n",
            "     slope        ca  thal  target  \n",
            "0        3  0.000000   6.0       0  \n",
            "1        2  3.000000   3.0       1  \n",
            "2        2  2.000000   7.0       1  \n",
            "3        3  0.000000   3.0       0  \n",
            "4        1  0.000000   3.0       0  \n",
            "..     ...       ...   ...     ...  \n",
            "298      2  0.000000   7.0       1  \n",
            "299      2  2.000000   7.0       1  \n",
            "300      2  1.000000   7.0       1  \n",
            "301      2  1.000000   3.0       1  \n",
            "302      1  0.672241   3.0       0  \n",
            "\n",
            "[303 rows x 14 columns]\n"
          ]
        }
      ]
    },
    {
      "cell_type": "code",
      "source": [
        "# Bai tap 1\n",
        "x_data = df['age']\n",
        "bin_range = (0,150)\n",
        "num_bins = 200\n",
        "bins = np.linspace(bin_range[0], bin_range[1], num_bins + 1)\n",
        "bin_centers = (bins[:-1] + bins[1:]) / 2\n",
        "counts_target0 = np.zeros(len(bins) - 1)  # For target = 0\n",
        "counts_target1 = np.zeros(len(bins) - 1)  # For target = 1\n",
        "\n",
        "target = df['target']\n",
        "for i in range(len(x_data)):\n",
        "    bin_index = np.digitize(x_data[i], bins) - 1\n",
        "    if bin_index >= 0 and bin_index < len(bins) - 1:\n",
        "        if target[i] == 0:\n",
        "            counts_target0[bin_index] += 1\n",
        "        elif target[i] == 1:\n",
        "            counts_target1[bin_index] += 1\n",
        "fig,ax = plt.subplots()\n",
        "bar_width = 0.35\n",
        "# Plot bars for target = 0\n",
        "ax.bar(bin_centers - bar_width/2, counts_target0, width=bar_width, label='Target = 0')\n",
        "# Plot bars for target = 1\n",
        "ax.bar(bin_centers + bar_width/2, counts_target1, width=bar_width, label='Target = 1')\n",
        "ax.set_xlabel('Age')\n",
        "ax.set_ylabel('Count')\n",
        "ax.set_title('Variation of Age for each target class')\n",
        "ax.legend()\n",
        "plt.show()"
      ],
      "metadata": {
        "colab": {
          "base_uri": "https://localhost:8080/",
          "height": 472
        },
        "id": "iUjg4eMy_ldJ",
        "outputId": "befae6e1-dd31-42fe-c729-d4f374341ee2"
      },
      "execution_count": 4,
      "outputs": [
        {
          "output_type": "display_data",
          "data": {
            "text/plain": [
              "<Figure size 640x480 with 1 Axes>"
            ],
            "image/png": "[encoded data removed]"
          },
          "metadata": {}
        }
      ]
    },
    {
      "cell_type": "code",
      "source": [
        "#bai tap 2\n",
        "import seaborn as sns\n",
        "import matplotlib.pyplot as plt\n",
        "\n",
        "# Assuming 'df' is your DataFrame and contains 'sex', 'age', and 'target' columns\n",
        "df_2 = df[['sex','age','target']]\n",
        "plt.figure(figsize=(8, 6))\n",
        "\n",
        "# Create a grouped bar plot\n",
        "sns.barplot(x='sex', y='age', hue='target', data=df_2)\n",
        "\n",
        "# Add labels and title\n",
        "plt.xlabel('sex')\n",
        "plt.ylabel('age')\n",
        "plt.title('Distribution of age vs sex with the target class')\n",
        "\n",
        "# Show the plot\n",
        "plt.show()\n"
      ],
      "metadata": {
        "colab": {
          "base_uri": "https://localhost:8080/",
          "height": 564
        },
        "id": "giNykDY7P-h8",
        "outputId": "68448629-5ddb-47af-ab4e-a860d25f8f57"
      },
      "execution_count": 5,
      "outputs": [
        {
          "output_type": "display_data",
          "data": {
            "text/plain": [
              "<Figure size 800x600 with 1 Axes>"
            ],
            "image/png": "[encoded data removed]"
          },
          "metadata": {}
        }
      ]
    },
    {
      "cell_type": "code",
      "source": [
        "# bai tạp 3\n",
        "from sklearn.model_selection import train_test_split\n",
        "from sklearn.neighbors import KNeighborsClassifier\n",
        "from sklearn.metrics import accuracy_score, confusion_matrix\n",
        "X = df.iloc[:,:-1]\n",
        "y = df.iloc[:,-1]\n",
        "X_train, X_test, y_train, y_test = train_test_split(X,y,\n",
        "                                                    test_size=0.2,\n",
        "                                                    random_state=42)\n",
        "knn_class = KNeighborsClassifier(n_neighbors=5, weights='uniform', algorithm='auto',leaf_size=30,p=2,metric='minkowski')\n",
        "knn_class.fit(X_train,y_train)\n",
        "knn_preds = knn_class.predict(X_test)\n",
        "cm_train = confusion_matrix(y_train, knn_class.predict(X_train))\n",
        "cm_test = confusion_matrix(y_test, knn_preds)\n",
        "accuracy_for_train = np.round((cm_train[0][0] + cm_train[1][1])/len(y_train),2)\n",
        "accuracy_for_test = np.round((cm_test[0][0] + cm_test[1][1])/len(y_test),2)\n",
        "print(f'Accuracy for training set for KNeighborsClassifier = {accuracy_for_train}')\n",
        "print(f'Accuracy for test set for KNeighborsClassifier = {accuracy_for_test}')"
      ],
      "metadata": {
        "colab": {
          "base_uri": "https://localhost:8080/"
        },
        "id": "LSd6WCgwRx0S",
        "outputId": "cfd04d42-4cfc-40f9-f851-56c458056ff2"
      },
      "execution_count": 13,
      "outputs": [
        {
          "output_type": "stream",
          "name": "stdout",
          "text": [
            "Accuracy for training set for KNeighborsClassifier = 0.76\n",
            "Accuracy for test set for KNeighborsClassifier = 0.69\n"
          ]
        }
      ]
    },
    {
      "cell_type": "code",
      "source": [
        "# bai tạp 4\n",
        "from sklearn.model_selection import train_test_split\n",
        "from sklearn import svm\n",
        "from sklearn.metrics import accuracy_score, confusion_matrix\n",
        "X = df.iloc[:,:-1]\n",
        "y = df.iloc[:,-1]\n",
        "X_train, X_test, y_train, y_test = train_test_split(X,y,\n",
        "                                                    test_size=0.2,\n",
        "                                                    random_state=42)\n",
        "SVM_class = svm.SVC(kernel='rbf', random_state=42)\n",
        "SVM_class.fit(X_train,y_train)\n",
        "SVM_preds = SVM_class.predict(X_test)\n",
        "cm_train = confusion_matrix(y_train, SVM_class.predict(X_train))\n",
        "cm_test = confusion_matrix(y_test, SVM_preds)\n",
        "accuracy_for_train = np.round((cm_train[0][0] + cm_train[1][1])/len(y_train),2)\n",
        "accuracy_for_test = np.round((cm_test[0][0] + cm_test[1][1])/len(y_test),2)\n",
        "print(f'Accuracy for training set for SVM = {accuracy_for_train}')\n",
        "print(f'Accuracy for test set for SVM = {accuracy_for_test}')"
      ],
      "metadata": {
        "id": "dl1rAn28XHV_",
        "colab": {
          "base_uri": "https://localhost:8080/"
        },
        "outputId": "5c19c1a9-7fa8-4822-8d41-173cabe099f2"
      },
      "execution_count": 14,
      "outputs": [
        {
          "output_type": "stream",
          "name": "stdout",
          "text": [
            "Accuracy for training set for SVM = 0.66\n",
            "Accuracy for test set for SVM = 0.67\n"
          ]
        }
      ]
    },
    {
      "cell_type": "code",
      "source": [
        "# bai tạp 5\n",
        "from sklearn.model_selection import train_test_split\n",
        "from sklearn.naive_bayes import GaussianNB\n",
        "from sklearn.metrics import accuracy_score, confusion_matrix\n",
        "X = df.iloc[:,:-1]\n",
        "y = df.iloc[:,-1]\n",
        "X_train, X_test, y_train, y_test = train_test_split(X,y,\n",
        "                                                    test_size=0.2,\n",
        "                                                    random_state=42)\n",
        "NB_class = GaussianNB()\n",
        "NB_class.fit(X_train,y_train)\n",
        "NB_preds = NB_class.predict(X_test)\n",
        "cm_train = confusion_matrix(y_train, NB_class.predict(X_train))\n",
        "cm_test = confusion_matrix(y_test, NB_preds)\n",
        "accuracy_for_train = np.round((cm_train[0][0] + cm_train[1][1])/len(y_train),2)\n",
        "accuracy_for_test = np.round((cm_test[0][0] + cm_test[1][1])/len(y_test),2)\n",
        "print(f'Accuracy for training set for Naive Bayes = {accuracy_for_train}')\n",
        "print(f'Accuracy for test set for Naive Bayes = {accuracy_for_test}')"
      ],
      "metadata": {
        "colab": {
          "base_uri": "https://localhost:8080/"
        },
        "id": "BLfkouZuDq55",
        "outputId": "fc9051d7-8a16-4f40-8b8b-c1fed27d6d5d"
      },
      "execution_count": 16,
      "outputs": [
        {
          "output_type": "stream",
          "name": "stdout",
          "text": [
            "Accuracy for training set for Naive Bayes = 0.85\n",
            "Accuracy for test set for Naive Bayes = 0.84\n"
          ]
        }
      ]
    },
    {
      "cell_type": "code",
      "source": [
        "#bai tap 6\n",
        "from sklearn.model_selection import train_test_split\n",
        "from sklearn.tree import DecisionTreeClassifier\n",
        "from sklearn.metrics import accuracy_score, confusion_matrix\n",
        "X = df.iloc[:,:-1].values\n",
        "y = df.iloc[:,-1].values\n",
        "X_train, X_test, y_train, y_test = train_test_split(X,y,\n",
        "                                                    test_size=0.2,\n",
        "                                                    random_state=42)\n",
        "dtree_class = DecisionTreeClassifier(criterion='gini',max_depth=10,min_samples_split=2,random_state=42)\n",
        "dtree_class.fit(X_train,y_train)\n",
        "dtree_preds = dtree_class.predict(X_test)\n",
        "cm_train = confusion_matrix(y_train, dtree_class.predict(X_train))\n",
        "cm_test = confusion_matrix(y_test, dtree_preds)\n",
        "accuracy_for_train = np.round((cm_train[0][0] + cm_train[1][1])/len(y_train),2)\n",
        "accuracy_for_test = np.round((cm_test[0][0] + cm_test[1][1])/len(y_test),2)\n",
        "print(f'Accuracy for training set for Decision Tree = {accuracy_for_train}')\n",
        "print(f'Accuracy for test set for Decision Tree = {accuracy_for_test}')"
      ],
      "metadata": {
        "colab": {
          "base_uri": "https://localhost:8080/"
        },
        "id": "fM23nPhvFEba",
        "outputId": "dded1486-9df2-44e8-c6eb-5f2ff5161583"
      },
      "execution_count": 21,
      "outputs": [
        {
          "output_type": "stream",
          "name": "stdout",
          "text": [
            "Accuracy for training set for Decision Tree = 1.0\n",
            "Accuracy for test set for Decision Tree = 0.75\n"
          ]
        }
      ]
    },
    {
      "cell_type": "code",
      "source": [
        "#bai tap 7\n",
        "from sklearn.ensemble import RandomForestClassifier\n",
        "from sklearn.metrics import accuracy_score, confusion_matrix\n",
        "X = df.iloc[:,:-1].values\n",
        "y = df.iloc[:,-1].values\n",
        "X_train, X_test, y_train, y_test = train_test_split(X,y,\n",
        "                                                    test_size=0.2,\n",
        "                                                    random_state=42)\n",
        "randfor_class = RandomForestClassifier(criterion='gini',max_depth=10,min_samples_split=2,n_estimators=10,random_state=42)\n",
        "randfor_class.fit(X_train,y_train)\n",
        "randfor_preds = randfor_class.predict(X_test)\n",
        "cm_train = confusion_matrix(y_train, randfor_class.predict(X_train))\n",
        "cm_test = confusion_matrix(y_test, randfor_preds)\n",
        "accuracy_for_train = np.round((cm_train[0][0] + cm_train[1][1])/len(y_train),2)\n",
        "accuracy_for_test = np.round((cm_test[0][0] + cm_test[1][1])/len(y_test),2)\n",
        "print(f'Accuracy for training set for Random Forest = {accuracy_for_train}')\n",
        "print(f'Accuracy for test set for Random Forest = {accuracy_for_test}')"
      ],
      "metadata": {
        "colab": {
          "base_uri": "https://localhost:8080/"
        },
        "id": "zSoZlJ2oGhJj",
        "outputId": "3186e4a3-9894-424a-cb56-b4125367cb43"
      },
      "execution_count": 23,
      "outputs": [
        {
          "output_type": "stream",
          "name": "stdout",
          "text": [
            "Accuracy for training set for Random Forest = 0.98\n",
            "Accuracy for test set for Random Forest = 0.8\n"
          ]
        }
      ]
    },
    {
      "cell_type": "code",
      "source": [
        "#bai tap 8\n",
        "from sklearn.ensemble import AdaBoostClassifier\n",
        "from sklearn.metrics import accuracy_score, confusion_matrix\n",
        "X = df.iloc[:,:-1].values\n",
        "y = df.iloc[:,-1].values\n",
        "X_train, X_test, y_train, y_test = train_test_split(X,y,\n",
        "                                                    test_size=0.2,\n",
        "                                                    random_state=42)\n",
        "adaboost_class = AdaBoostClassifier(n_estimators=50,learning_rate=1.0,random_state=42)\n",
        "adaboost_class.fit(X_train,y_train)\n",
        "adaboost_preds = adaboost_class.predict(X_test)\n",
        "cm_train = confusion_matrix(y_train, adaboost_class.predict(X_train))\n",
        "cm_test = confusion_matrix(y_test, adaboost_preds)\n",
        "accuracy_for_train = np.round((cm_train[0][0] + cm_train[1][1])/len(y_train),2)\n",
        "accuracy_for_test = np.round((cm_test[0][0] + cm_test[1][1])/len(y_test),2)\n",
        "print(f'Accuracy for training set for Adaboost = {accuracy_for_train}')\n",
        "print(f'Accuracy for test set for Adaboost = {accuracy_for_test}')"
      ],
      "metadata": {
        "colab": {
          "base_uri": "https://localhost:8080/"
        },
        "id": "UJTDLWxPJYbf",
        "outputId": "80a70f28-103f-4821-ae10-282beccecf67"
      },
      "execution_count": 32,
      "outputs": [
        {
          "output_type": "stream",
          "name": "stderr",
          "text": [
            "/usr/local/lib/python3.10/dist-packages/sklearn/ensemble/_weight_boosting.py:527: FutureWarning: The SAMME.R algorithm (the default) is deprecated and will be removed in 1.6. Use the SAMME algorithm to circumvent this warning.\n",
            "  warnings.warn(\n"
          ]
        },
        {
          "output_type": "stream",
          "name": "stdout",
          "text": [
            "Accuracy for training set for Adaboost = 0.91\n",
            "Accuracy for test set for Adaboost = 0.84\n"
          ]
        }
      ]
    },
    {
      "cell_type": "code",
      "source": [
        "#bai tap 9\n",
        "from sklearn.ensemble import GradientBoostingClassifier\n",
        "from sklearn.metrics import accuracy_score, confusion_matrix\n",
        "X = df.iloc[:,:-1].values\n",
        "y = df.iloc[:,-1].values\n",
        "X_train, X_test, y_train, y_test = train_test_split(X,y,\n",
        "                                                    test_size=0.2,\n",
        "                                                    random_state=42)\n",
        "gradientboost_class = GradientBoostingClassifier(learning_rate=0.1,n_estimators=100,subsample=1.0,min_samples_split=2,max_depth=3,random_state=42)\n",
        "gradientboost_class.fit(X_train,y_train)\n",
        "gradientboost_preds = gradientboost_class.predict(X_test)\n",
        "cm_train = confusion_matrix(y_train, gradientboost_class.predict(X_train))\n",
        "cm_test = confusion_matrix(y_test, gradientboost_preds)\n",
        "accuracy_for_train = np.round((cm_train[0][0] + cm_train[1][1])/len(y_train),2)\n",
        "accuracy_for_test = np.round((cm_test[0][0] + cm_test[1][1])/len(y_test),2)\n",
        "print(f'Accuracy for training set for Gradientboost = {accuracy_for_train}')\n",
        "print(f'Accuracy for test set for Gradientboost = {accuracy_for_test}')"
      ],
      "metadata": {
        "colab": {
          "base_uri": "https://localhost:8080/"
        },
        "id": "h0BpxLKNK4lQ",
        "outputId": "c862d7ec-fa77-41b1-ff07-c1a50fae4d5d"
      },
      "execution_count": 30,
      "outputs": [
        {
          "output_type": "stream",
          "name": "stdout",
          "text": [
            "Accuracy for training set for Gradientboost = 1.0\n",
            "Accuracy for test set for Gradientboost = 0.85\n"
          ]
        }
      ]
    },
    {
      "cell_type": "code",
      "source": [
        "#bai tap 10\n",
        "import xgboost as xgb\n",
        "from sklearn.metrics import accuracy_score, confusion_matrix\n",
        "X = df.iloc[:,:-1].values\n",
        "y = df.iloc[:,-1].values\n",
        "X_train, X_test, y_train, y_test = train_test_split(X,y,\n",
        "                                                    test_size=0.2,\n",
        "                                                    random_state=42)\n",
        "xgboost_class = xgb.XGBClassifier(objective=\"binary:logistic\",n_estimators=100,random_state=42)\n",
        "xgboost_class.fit(X_train,y_train)\n",
        "xgboost_preds = xgboost_class.predict(X_test)\n",
        "cm_train = confusion_matrix(y_train, xgboost_class.predict(X_train))\n",
        "cm_test = confusion_matrix(y_test, xgboost_preds)\n",
        "accuracy_for_train = np.round((cm_train[0][0] + cm_train[1][1])/len(y_train),2)\n",
        "accuracy_for_test = np.round((cm_test[0][0] + cm_test[1][1])/len(y_test),2)\n",
        "print(f'Accuracy for training set for XGBoost = {accuracy_for_train}')\n",
        "print(f'Accuracy for test set for XGBoost = {accuracy_for_test}')"
      ],
      "metadata": {
        "colab": {
          "base_uri": "https://localhost:8080/"
        },
        "id": "Fb7vwl6SMIWR",
        "outputId": "993ed904-048a-4a00-bb97-d842abffe3bb"
      },
      "execution_count": 35,
      "outputs": [
        {
          "output_type": "stream",
          "name": "stdout",
          "text": [
            "Accuracy for training set for XGBoost = 1.0\n",
            "Accuracy for test set for XGBoost = 0.87\n"
          ]
        }
      ]
    },
    {
      "cell_type": "code",
      "source": [
        "#bai tap 11\n",
        "from sklearn.ensemble import StackingClassifier, GradientBoostingClassifier, AdaBoostClassifier\n",
        "from sklearn.tree import DecisionTreeClassifier\n",
        "from sklearn.ensemble import RandomForestClassifier\n",
        "from sklearn.neighbors import KNeighborsClassifier\n",
        "from xgboost import XGBClassifier\n",
        "from sklearn.svm import SVC\n",
        "from sklearn.metrics import accuracy_score, confusion_matrix\n",
        "X = df.iloc[:,:-1].values\n",
        "y = df.iloc[:,-1].values\n",
        "X_train, X_test, y_train, y_test = train_test_split(X,y,\n",
        "                                                    test_size=0.2,\n",
        "                                                    random_state=42)\n",
        "estimators = [\n",
        "    ('dtc', DecisionTreeClassifier(criterion='gini',max_depth=10,min_samples_split=2,random_state=42)),\n",
        "    ('rfc', RandomForestClassifier(criterion='gini',max_depth=10,min_samples_split=2,n_estimators=10,random_state=42)),\n",
        "    ('knn', KNeighborsClassifier(n_neighbors=5, weights='uniform', algorithm='auto',leaf_size=30,p=2,metric='minkowski')),\n",
        "    ('xgb', XGBClassifier(objective=\"binary:logistic\",n_estimators=100,random_state=42)), # Assuming default XGBoost parameters\n",
        "    ('gc', GradientBoostingClassifier(learning_rate=0.1,n_estimators=100,subsample=1.0,min_samples_split=2,max_depth=3,random_state=42)),\n",
        "    ('svc', SVC(kernel='rbf', random_state=42)),\n",
        "    ('ad', AdaBoostClassifier(n_estimators=50,learning_rate=1.0,random_state=42))\n",
        "]\n",
        "stack_class = StackingClassifier(estimators=estimators)\n",
        "stack_class.fit(X_train,y_train)\n",
        "stack_preds = stack_class.predict(X_test)\n",
        "cm_train = confusion_matrix(y_train, stack_class.predict(X_train))\n",
        "cm_test = confusion_matrix(y_test, stack_preds)\n",
        "accuracy_for_train = np.round((cm_train[0][0] + cm_train[1][1])/len(y_train),2)\n",
        "accuracy_for_test = np.round((cm_test[0][0] + cm_test[1][1])/len(y_test),2)\n",
        "print(f'Accuracy for training set for Stacking = {accuracy_for_train}')\n",
        "print(f'Accuracy for test set for Stacking = {accuracy_for_test}')"
      ],
      "metadata": {
        "colab": {
          "base_uri": "https://localhost:8080/"
        },
        "id": "7wDTDriVOcro",
        "outputId": "78df41b7-1669-40e6-eb8e-0da8acf0caae"
      },
      "execution_count": 42,
      "outputs": [
        {
          "output_type": "stream",
          "name": "stderr",
          "text": [
            "/usr/local/lib/python3.10/dist-packages/sklearn/ensemble/_weight_boosting.py:527: FutureWarning: The SAMME.R algorithm (the default) is deprecated and will be removed in 1.6. Use the SAMME algorithm to circumvent this warning.\n",
            "  warnings.warn(\n",
            "/usr/local/lib/python3.10/dist-packages/sklearn/ensemble/_weight_boosting.py:527: FutureWarning: The SAMME.R algorithm (the default) is deprecated and will be removed in 1.6. Use the SAMME algorithm to circumvent this warning.\n",
            "  warnings.warn(\n",
            "/usr/local/lib/python3.10/dist-packages/sklearn/ensemble/_weight_boosting.py:527: FutureWarning: The SAMME.R algorithm (the default) is deprecated and will be removed in 1.6. Use the SAMME algorithm to circumvent this warning.\n",
            "  warnings.warn(\n",
            "/usr/local/lib/python3.10/dist-packages/sklearn/ensemble/_weight_boosting.py:527: FutureWarning: The SAMME.R algorithm (the default) is deprecated and will be removed in 1.6. Use the SAMME algorithm to circumvent this warning.\n",
            "  warnings.warn(\n",
            "/usr/local/lib/python3.10/dist-packages/sklearn/ensemble/_weight_boosting.py:527: FutureWarning: The SAMME.R algorithm (the default) is deprecated and will be removed in 1.6. Use the SAMME algorithm to circumvent this warning.\n",
            "  warnings.warn(\n",
            "/usr/local/lib/python3.10/dist-packages/sklearn/ensemble/_weight_boosting.py:527: FutureWarning: The SAMME.R algorithm (the default) is deprecated and will be removed in 1.6. Use the SAMME algorithm to circumvent this warning.\n",
            "  warnings.warn(\n"
          ]
        },
        {
          "output_type": "stream",
          "name": "stdout",
          "text": [
            "Accuracy for training set for Stacking = 1.0\n",
            "Accuracy for test set for Stacking = 0.85\n"
          ]
        }
      ]
    },
    {
      "cell_type": "code",
      "source": [],
      "metadata": {
        "id": "IUJ8R8pOPMYQ"
      },
      "execution_count": null,
      "outputs": []
    }
  ]
}